{
 "cells": [
  {
   "cell_type": "markdown",
   "id": "d15bc554",
   "metadata": {},
   "source": [
    "# This Notebook contains solutions of basic problems using Python"
   ]
  },
  {
   "cell_type": "markdown",
   "id": "0076ded7",
   "metadata": {},
   "source": [
    "###  Reverse an array without using duplicate array "
   ]
  },
  {
   "cell_type": "code",
   "execution_count": 28,
   "id": "768c208d",
   "metadata": {},
   "outputs": [
    {
     "name": "stdout",
     "output_type": "stream",
     "text": [
      "[6, 5, 4, 3, 2, 1]\n"
     ]
    }
   ],
   "source": [
    "a= [1,2,3,4,5,6]\n",
    "size = len(a)\n",
    "for i in range(size//2):\n",
    "    temp = a[i]\n",
    "    a[i] = a[size-1-i]\n",
    "    a[size-1-i] = temp\n",
    "print(a)    "
   ]
  },
  {
   "cell_type": "markdown",
   "id": "45f94f95",
   "metadata": {},
   "source": [
    "Find Second maximum value in an array"
   ]
  },
  {
   "cell_type": "code",
   "execution_count": 29,
   "id": "03939fdb",
   "metadata": {},
   "outputs": [
    {
     "name": "stdout",
     "output_type": "stream",
     "text": [
      "122\n",
      "120\n"
     ]
    }
   ],
   "source": [
    "b = [90,120,2,3,4,90,122]\n",
    "f_max = b[0]\n",
    "s_max = b[1]\n",
    "\n",
    "for i in b:\n",
    "    if f_max<i:\n",
    "        s_max = f_max\n",
    "        f_max = i\n",
    "\n",
    "    elif s_max<i and i!=f_max:\n",
    "        s_max = i\n",
    "\n",
    "print(f_max)\n",
    "print(s_max)\n",
    "        "
   ]
  },
  {
   "cell_type": "markdown",
   "id": "debd3ec9",
   "metadata": {},
   "source": [
    "Find the frequency/occurences of each element in a list"
   ]
  },
  {
   "cell_type": "code",
   "execution_count": 70,
   "id": "802462b1",
   "metadata": {},
   "outputs": [
    {
     "name": "stdout",
     "output_type": "stream",
     "text": [
      "{'orange': 2, 'apple': 3, 'mango': 1}\n"
     ]
    }
   ],
   "source": [
    "fruits = [\"orange\",\"apple\",\"mango\",\"apple\",\"apple\",\"orange\"]\n",
    "occurences = dict()\n",
    "for i in range(len(fruits)):\n",
    "    freq = 1    \n",
    "    \n",
    "    if fruits[i] in occurences:\n",
    "        continue\n",
    "    \n",
    "    for j in range(i+1,len(fruits)):\n",
    "                \n",
    "        if fruits[i]==fruits[j]:\n",
    "            freq+=1\n",
    "        \n",
    "    \n",
    "\n",
    "    occurences[fruits[i]] = freq\n",
    "        \n",
    "        \n",
    "print(occurences)"
   ]
  }
 ],
 "metadata": {
  "kernelspec": {
   "display_name": "Python 3 (ipykernel)",
   "language": "python",
   "name": "python3"
  },
  "language_info": {
   "codemirror_mode": {
    "name": "ipython",
    "version": 3
   },
   "file_extension": ".py",
   "mimetype": "text/x-python",
   "name": "python",
   "nbconvert_exporter": "python",
   "pygments_lexer": "ipython3",
   "version": "3.10.9"
  }
 },
 "nbformat": 4,
 "nbformat_minor": 5
}
